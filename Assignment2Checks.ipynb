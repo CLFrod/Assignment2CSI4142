{
 "cells": [
  {
   "cell_type": "markdown",
   "metadata": {},
   "source": [
    "# CSI 4142 - Introduction to Data Science\n",
    "# Assignment 2: Data cleaning\n",
    "\n",
    "Shacha Parker (300235525)\\\n",
    "Callum Frodsham and (300199446)\\\n",
    "Group 79\n",
    "\n",
    "### Setup Instructions To Reproduce this Data Cleaning Notebook:\n",
    "(Step 1 Optional)\n",
    "1. Create a virtual python environment in the project directory (if you want) for all of the packages required:  \n",
    "``` \n",
    "python -m venv .venv\n",
    "```\n",
    "To enter the virutal environment: \n",
    "```\n",
    ".venv/Scripts/activate.ps1 # on windows\n",
    "source .venv/bin/activate # on mac/linux\n",
    "```\n",
    "2. Download all of the required packages (run in cmd/shell of choice):\n",
    "```\n",
    "pip install jupyter\n",
    "pip install ipykernel\n",
    "pip install pandas\n",
    "pip install numpy\n",
    "```\n",
    "3. VSCode: Ensure you have the correct python kernel selected!\n",
    "<br> \n",
    "If you are using a virtual environment, make sure to select the python interpreter for that virtual environment otherwise this will not work! If you have everything done globally, then just make sure the correct python kernel you are using is selected."
   ]
  },
  {
   "cell_type": "code",
   "execution_count": null,
   "metadata": {},
   "outputs": [],
   "source": [
    "# Initial imports\n",
    "import numpy as np\n",
    "import pandas as pd"
   ]
  },
  {
   "cell_type": "markdown",
   "metadata": {},
   "source": [
    "<h1>Introduction: </h1>\n",
    "<p>This data error checking notebook is about exploring a dataset, specifically Shivam Bansal's Netflix dataset, and evaluating all of its features, and checking for different types of dataset validity errors. These errors include, look-up errors, range errors, duplicate errors, uniqueness errors, etc.</p>"
   ]
  },
  {
   "cell_type": "markdown",
   "metadata": {},
   "source": [
    "<h1>Dataset 1: Netflix Movies and TV Shows</h1>\n",
    "<h3>Clean Data Checking</h3>\n",
    "\n",
    "Author: Shivam Bansal\n",
    "<br>\n",
    "Purpose: This dataset was made to provide insights on the shows and movies that Netflix is hosting on their platform. For example, these insights could be used to see what type of content the platform is missing, or what type of content they have too much of.\n",
    "<br>\n",
    "Shape: This dataset is composed of 12 columns, and 8810 rows.\n",
    "<br><br>\n",
    "Link: <a href=\"https://www.kaggle.com/datasets/shivamb/netflix-shows\"> Mobile Device Usage and User Behavior</a>\n",
    "<br>\n",
    "<h3>Dataset Feature List: </h3>\n",
    "<ol>\n",
    "    <li>Show Id:\n",
    "    <br>\n",
    "    Feature Type: Categorical - Nominal\n",
    "    <br>\n",
    "    Description: The show_id is a unique ID that is assigned to each show/movie. There are 8807 entries ranging from s1 to s8807.\n",
    "    </li>\n",
    "    <br>\n",
    "    <li>Type\n",
    "    <br>\n",
    "    Feature Type: Categorical - Nominal\n",
    "    <br>\n",
    "    Description Informs the viewer whether the content is a tv show or a movie.\n",
    "        </li>\n",
    "    <br>\n",
    "    <li>Title:\n",
    "    <br>\n",
    "    Feature Type: Categorical - Nominal\n",
    "    <br>\n",
    "    Description: The title name of the tv show or movie.\n",
    "        </li>\n",
    "    <br>\n",
    "    <li>Director:\n",
    "    <br>\n",
    "    Feature Type: Categorical - Nominal\n",
    "    <br>\n",
    "    Description: The name of the person(s) who directed the tv show or movie. \n",
    "        </li>\n",
    "    <br>\n",
    "    <li>Cast:\n",
    "    <br>\n",
    "    Feature Type: Categorical - Nominal\n",
    "    <br>\n",
    "    Description: The name(s) of the notable actor(s) who acted in the tv show or movie.\n",
    "        </li>\n",
    "    <br>\n",
    "    <li>Country:\n",
    "    <br>\n",
    "    Feature Type: Categorical - Nominal\n",
    "    <br>\n",
    "    Description: The countries/country where the tv show or movie was produced.\n",
    "        </li>\n",
    "    <br>\n",
    "    <li>Date Added:\n",
    "    <br>\n",
    "    Feature Type: Numerical - Continuous\n",
    "    <br>\n",
    "    Description: The date the show or movie was added to Netflix.\n",
    "        </li>\n",
    "    <br>\n",
    "    <li>Release Year:\n",
    "    <br>\n",
    "    Feature Type: Numerical - Continuous\n",
    "    <br>\n",
    "    Description: The year in which the tv show or movie was originally released.\n",
    "        </li>\n",
    "    <br>\n",
    "    <li>Rating:\n",
    "    <br>\n",
    "    Feature Type: Categorical - Ordinal\n",
    "    <br>\n",
    "    Description: This rating indicates the acceptable age of viewing for the tv show or movie.\n",
    "        </li>\n",
    "    <br>\n",
    "    <li>Duration:\n",
    "    <br>\n",
    "    Feature Type: Mixed Type - Numerical Continuous - Categorical Ordinal \n",
    "    <br>\n",
    "    Description: The duration of the movie in minutes, or if it is a tv show, in seasons.\n",
    "        </li>\n",
    "    <br>\n",
    "    <li>Genre/Listed In:\n",
    "    <br>\n",
    "    Feature Type: Categorical - Nominal\n",
    "    <br>\n",
    "    Description: The genres/subgenres the tv show or movie falls in.\n",
    "        </li>\n",
    "    <br>\n",
    "    <li>Description:\n",
    "    <br>\n",
    "    Feature Type: Categorical - Nominal\n",
    "    <br>\n",
    "    Description: The description of the tv show or movie.\n",
    "        </li>\n",
    "</ol>"
   ]
  },
  {
   "cell_type": "code",
   "execution_count": null,
   "metadata": {},
   "outputs": [],
   "source": [
    "# load the dataset: \n",
    "dataset = pd.read_csv(\"https://raw.githubusercontent.com/CLFrod/Assignment2CSI4142/refs/heads/master/netflix_titles.csv\")"
   ]
  },
  {
   "cell_type": "markdown",
   "metadata": {},
   "source": [
    "<h4>1. Range Check:</h4>\n",
    "<p>\n",
    "In this test, we will verify the range of a numerical value. The range is the minimum and maximum values that an attribute can have.\n",
    "</p>"
   ]
  },
  {
   "cell_type": "code",
   "execution_count": null,
   "metadata": {},
   "outputs": [],
   "source": [
    "# Please enter the various attributes below to perform the tests:\n",
    "range_attributes = ['release_year', 'date_added']\n",
    "# attribute selection:\n",
    "test_range_attribute = 'release_year'\n",
    "# Minimum:\n",
    "range_minimum = 1888\n",
    "# Maximum:\n",
    "range_maximum = 2025"
   ]
  },
  {
   "cell_type": "code",
   "execution_count": null,
   "metadata": {},
   "outputs": [],
   "source": [
    "# Checker Code\n",
    "range_series = dataset[test_range_attribute].between(range_minimum, range_maximum)\n",
    "\n",
    "# changing the booleans in range_series from True to False and vice versa\n",
    "# values that were previously not in range (False) are true!\n",
    "not_range_series = ~range_series\n",
    "\n",
    "# check if the range series is empty\n",
    "empty_range = dataset[not_range_series].empty\n",
    "# if the series is not empty, \n",
    "if not empty_range:\n",
    "    out_of_range_count = 0\n",
    "    for val in not_range_series:\n",
    "        out_of_range_count += 1\n",
    "    print(out_of_range_count)\n",
    "# if the series is empty\n",
    "else:\n",
    "    print(\"All values fall within specified paramters!\")"
   ]
  },
  {
   "cell_type": "markdown",
   "metadata": {},
   "source": [
    "<p style =\"font-size:20px\">Range check Findings: </p>\n",
    "No range errors were detected based on the provided parameters.\n",
    "The dataset's 'release_year' feature only has years that fit within logical parameters."
   ]
  },
  {
   "cell_type": "markdown",
   "metadata": {},
   "source": [
    "<h4>2. Format Check:</h4>\n",
    "<p>\n",
    "In this test, we will verify whether or not specifc values adhere to a specifc format. \n",
    "</p>"
   ]
  },
  {
   "cell_type": "code",
   "execution_count": null,
   "metadata": {},
   "outputs": [],
   "source": [
    "# Please enter the various attributes below to perform the tests:\n",
    "format_attributes = ['date_added', 'release_year']\n",
    "\n",
    "test_format_attribute = format_attributes[0]\n"
   ]
  },
  {
   "cell_type": "code",
   "execution_count": null,
   "metadata": {},
   "outputs": [],
   "source": [
    "# Checker Code\n",
    "# get the df of dates added\n",
    "date_added_df = dataset['date_added']\n",
    "\n",
    "#convert to datetime\n",
    "converted_dates = pd.to_datetime(date_added_df, format=\"%B %d, %Y\", errors=\"coerce\")\n",
    "\n",
    "# get the incorrectly formatted dates\n",
    "incorrectly_formatted_dates = converted_dates.isna()\n",
    "print(dataset[incorrectly_formatted_dates][test_format_attribute])\n"
   ]
  },
  {
   "cell_type": "markdown",
   "metadata": {},
   "source": [
    "<p style =\"font-size:20px\">Format check Findings: </p>\n",
    "There are 98 data points that don't follow the correct format of the dates,\n",
    "For example,\n",
    "Row 6068 is missing a date, and thus is technically not following the correct format.<br>\n",
    "<br>\n",
    "Row 8759 has \" November 1, 2016\". Although technically following correct formatting, it has a leading whitespace which should not be there."
   ]
  },
  {
   "cell_type": "markdown",
   "metadata": {},
   "source": [
    "<h4>3. Data Type Check:</h4>\n",
    "<p>\n",
    "In this test, we will verify whether or not an attribute's values conform to the specific data type.\n",
    "</p>"
   ]
  },
  {
   "cell_type": "code",
   "execution_count": null,
   "metadata": {},
   "outputs": [],
   "source": [
    "# Please enter the various attributes below to perform the tests:\n",
    "attributes = ['release_year']\n",
    "data_type_test_attribute = attributes[0]\n",
    "\n",
    "# small function to check if val is int\n",
    "def is_integer(val):\n",
    "    return isinstance(val, int)"
   ]
  },
  {
   "cell_type": "code",
   "execution_count": null,
   "metadata": {},
   "outputs": [],
   "source": [
    "# Checker Code\n",
    "\n",
    "\n",
    "data_type_check = dataset[data_type_test_attribute].apply(is_integer).all()\n",
    "\n",
    "if data_type_check:\n",
    "    print(\"All values are integers.\")\n",
    "else:\n",
    "    print(\"Not all values are integers.\")\n"
   ]
  },
  {
   "cell_type": "markdown",
   "metadata": {},
   "source": [
    "<p style =\"font-size:20px\">Data Type check Findings: </p>\n",
    "No data type errors were detected based on the provided parameters.\n",
    "The dataset's 'release_year' feature only contains integer values."
   ]
  },
  {
   "cell_type": "markdown",
   "metadata": {},
   "source": [
    "<h4>4. Consistency Check</h4>\n",
    "<p>\n",
    "In this test, we will verify if two values are consistent with one another. For example, the release_year coming before the date added to a platform.\n",
    "</p>"
   ]
  },
  {
   "cell_type": "code",
   "execution_count": null,
   "metadata": {},
   "outputs": [],
   "source": [
    "# Please enter the various attributes below to perform the tests:\n",
    "consistency_attributes = ['release_year', \"date_added\"]\n"
   ]
  },
  {
   "cell_type": "code",
   "execution_count": null,
   "metadata": {},
   "outputs": [],
   "source": [
    "# Checker Code\n",
    "# deep copy the dataset\n",
    "temp_df = dataset.copy(True)\n",
    "# convert date added to python datetime\n",
    "temp_df[consistency_attributes[1]] = pd.to_datetime(temp_df[consistency_attributes[1]], errors='coerce')\n",
    "# get the year only\n",
    "temp_df['year_added'] = temp_df[consistency_attributes[1]].dt.year\n",
    "\n",
    "# get the dates that aren't consistent\n",
    "inconsistent_dates = temp_df[temp_df['year_added'] < dataset[consistency_attributes[0]]]\n",
    "\n",
    "print(inconsistent_dates[consistency_attributes[0]])\n",
    "print(inconsistent_dates.size)"
   ]
  },
  {
   "cell_type": "markdown",
   "metadata": {},
   "source": [
    "<p style =\"font-size:20px\">Consistency check Findings: </p>\n",
    "There are 182 data points that are not logically consistent with the date added, and the release year.\n",
    "\n",
    "For example,\n",
    "\n",
    "The Film \"Hilda\" on row 1553 was added in 2020, but the release year says 2021. That should not be possible, unless the series was added to Netflix as a test beforehand or for some other reason.\n"
   ]
  },
  {
   "cell_type": "markdown",
   "metadata": {},
   "source": [
    "<h4>5. Uniqueness Check:</h4>\n",
    "<p>\n",
    "In this test, we will be performing a check to see if all values in a column are unique.\n",
    "</p>"
   ]
  },
  {
   "cell_type": "code",
   "execution_count": null,
   "metadata": {},
   "outputs": [],
   "source": [
    "# Please enter the various attributes below to perform the tests:\n",
    "uniqueness_attributes = ['show_id','title']"
   ]
  },
  {
   "cell_type": "code",
   "execution_count": null,
   "metadata": {},
   "outputs": [],
   "source": [
    "# Checker Code\n",
    "\n",
    "if dataset[uniqueness_attributes[0]].is_unique:\n",
    "    print(\"All \" + uniqueness_attributes[0] + \"s are unique values.\")\n",
    "else:\n",
    "    print(\"All \" + uniqueness_attributes[0] + \"s are not unique values.\")\n",
    "\n"
   ]
  },
  {
   "cell_type": "markdown",
   "metadata": {},
   "source": [
    "<p style =\"font-size:20px\">Uniqueness check Findings: </p>\n",
    "No uniqueness errors were detected based on the provided parameters!"
   ]
  },
  {
   "cell_type": "markdown",
   "metadata": {},
   "source": [
    "<h4>6. Presence Check:</h4>\n",
    "<p>\n",
    "In this test, we will be checking if an attribute has any missing, or null values present in the dataset.\n",
    "</p>"
   ]
  },
  {
   "cell_type": "code",
   "execution_count": null,
   "metadata": {},
   "outputs": [],
   "source": [
    "# Please enter the various attributes below to perform the tests:\n",
    "presence_attributes = ['title', 'date_added', 'director']"
   ]
  },
  {
   "cell_type": "code",
   "execution_count": null,
   "metadata": {},
   "outputs": [],
   "source": [
    "# Checker Code\n",
    "# get \n",
    "presence_series = dataset[presence_attributes[1]].isnull()\n",
    "\n",
    "print(\"Rows with missing \"+ presence_attributes[1] + \":\")\n",
    "print(dataset[presence_series]['title'])"
   ]
  },
  {
   "cell_type": "markdown",
   "metadata": {},
   "source": [
    "<p style =\"font-size:20px\">Presence check Findings: </p>\n",
    "There are 10 data points in the dataset where the date_added, is empty or null. See for example the following rows:\n",
    "\n",
    "show_id / title / date_added / release_year\n",
    "s6067 / A Young Doctor's Notebook and Other Stories / / 2013\n"
   ]
  },
  {
   "cell_type": "markdown",
   "metadata": {},
   "source": [
    "<h4>7. Length Check:</h4>\n",
    "<p>\n",
    "In this test, we will be verifying if the length of a value conforms to a possible set max length.\n",
    "</p>"
   ]
  },
  {
   "cell_type": "code",
   "execution_count": null,
   "metadata": {},
   "outputs": [],
   "source": [
    "# Please enter the various attributes below to perform the tests:\n",
    "length_attributes = ['release_year', 'rating']\n",
    "test_length_attribute = length_attributes[1]\n",
    "# max length of tv rating\n",
    "max_length = 8"
   ]
  },
  {
   "cell_type": "code",
   "execution_count": null,
   "metadata": {},
   "outputs": [],
   "source": [
    "# Checker Code\n",
    "# check if length falls within bounds\n",
    "length_check_df = dataset[dataset[test_length_attribute].str.len() > max_length]\n",
    "\n",
    "print(length_check_df['rating'])"
   ]
  },
  {
   "cell_type": "markdown",
   "metadata": {},
   "source": [
    "<p style =\"font-size:20px\">Length check Findings: </p>\n",
    "No length errors were detected based on the provided parameters!"
   ]
  },
  {
   "cell_type": "markdown",
   "metadata": {},
   "source": [
    "<h4>8. Look-up Check:</h4>\n",
    "<p>\n",
    "In this test we are checking if a value conforms to the set values in a look-up table. The look-up table contains all of the values an attribute should be. \n",
    "</p>"
   ]
  },
  {
   "cell_type": "code",
   "execution_count": null,
   "metadata": {},
   "outputs": [],
   "source": [
    "# Please enter the various attributes below to perform the tests:\n",
    "look_up_attributes = ['rating', 'type']\n",
    "\n",
    "test_look_up_attribute = look_up_attributes[1]"
   ]
  },
  {
   "cell_type": "code",
   "execution_count": null,
   "metadata": {},
   "outputs": [],
   "source": [
    "# Checker Code\n",
    "\n",
    "look_up_table = ['TV Show', 'Movie']\n",
    "\n",
    "# Check which values are valid\n",
    "valid_content_types = dataset['type'].isin(look_up_table)\n",
    "\n",
    "print(dataset[~valid_content_types])\n"
   ]
  },
  {
   "cell_type": "markdown",
   "metadata": {},
   "source": [
    "<p style =\"font-size:20px\">Look-up check Findings: </p>\n",
    "No look-up errors were found for the 'type' feature. Thus, all values in the column 'type' conform to the look-up table."
   ]
  },
  {
   "cell_type": "markdown",
   "metadata": {},
   "source": [
    "<h4>9. Exact Duplicate Check</h4>\n",
    "<p>\n",
    "In this test we are checking for exact duplicate values.\n",
    "</p>"
   ]
  },
  {
   "cell_type": "code",
   "execution_count": null,
   "metadata": {},
   "outputs": [],
   "source": [
    "# Please enter the various attributes below to perform the tests:\n",
    "duplicate_attributes = ['title']\n"
   ]
  },
  {
   "cell_type": "code",
   "execution_count": null,
   "metadata": {},
   "outputs": [],
   "source": [
    "# Checker Code\n",
    "# check if any values are exact duplicates in the title\n",
    "duplicate_series = dataset[duplicate_attributes[0]].duplicated()\n",
    "\n",
    "print(dataset[duplicate_series])"
   ]
  },
  {
   "cell_type": "markdown",
   "metadata": {},
   "source": [
    "<p style =\"font-size:20px\">Exact Duplicate check Findings: </p>\n",
    "No exact duplicate errors were found for the 'title' feature. Thus, all values in the column 'title' are unique."
   ]
  },
  {
   "cell_type": "markdown",
   "metadata": {},
   "source": [
    "<h4>10. Near Duplicate Check:</h4>\n",
    "<p>\n",
    "In this test, we will be checking to see if there are any near-duplicates in a column. This test has been modified due to the fact that there are no duplicate rows (or near duplicate rows), as well as there are no significant duplicate values in this dataset. \n",
    "</p>"
   ]
  },
  {
   "cell_type": "code",
   "execution_count": null,
   "metadata": {},
   "outputs": [],
   "source": [
    "# Please enter the various attributes below to perform the tests:\n",
    "n_duplicate_attributes = ['date_added']\n"
   ]
  },
  {
   "cell_type": "code",
   "execution_count": null,
   "metadata": {},
   "outputs": [],
   "source": [
    "# Checker Code\n",
    "# get all date_added values with a leading whitespace\n",
    "no_nan_date_added = dataset[dataset['date_added'].notna()]\n",
    "\n",
    "# Get all dates with a leading whitespace! :)\n",
    "all_dates_leading_whitespace = no_nan_date_added[no_nan_date_added['date_added'].str.startswith(' ')].copy(deep=True)\n",
    "\n",
    "# Get all dates without a leading whitespace!\n",
    "all_dates_without_leading_whitespace = no_nan_date_added[~no_nan_date_added['date_added'].str.startswith(' ')].copy(deep=True)\n",
    "\n",
    "# strip all whitespaces from leading whitespace group to make it easier to compare:\n",
    "all_dates_leading_whitespace_fixed = all_dates_leading_whitespace['date_added'].str.lstrip()\n",
    "\n",
    "# now check for duplicates now that we have both groups:\n",
    "duplicates_across_groups = all_dates_leading_whitespace[\n",
    "    all_dates_leading_whitespace_fixed.isin(all_dates_without_leading_whitespace['date_added'])\n",
    "]\n",
    "print(duplicates_across_groups['date_added'])\n"
   ]
  },
  {
   "cell_type": "markdown",
   "metadata": {},
   "source": [
    "<p style =\"font-size:20px\">Near-Duplicate check Findings: </p>\n",
    "There are 73 data points/examples of values within the date_added columnn where the only difference between the two values are a leading whitespace, making them near-duplicates of eachother. (This was chosen since there are no significant near-duplicates)\n",
    "\n",
    "An example two rows of near-duplicate values:\n",
    "Row 6081, and row 6615:\n",
    "Row 6081 has the date_added = \" August 4, 2017\", while row 6615 has the date_added = \"August 4, 2017\". These valuse are nearly duplicate entries, the only difference being the leading whitespace. "
   ]
  },
  {
   "cell_type": "markdown",
   "metadata": {},
   "source": [
    "<h2>Conclusion:</h2>\n",
    "Overall this dataset had many errors, such as date format errors where the dates were input with leading whitespaces. There were consistency errors where tv content was added to the platform before the content had even released. There were presence errors found, where rows are missing the dates they were added to the platform. There were many errors found within this dataset, but there were also many sections without proper errors, such as the near-duplicate error category where the goal of finding a near-duplicate error had to be interpreted differently to find somewhat meaningful values. "
   ]
  },
  {
   "cell_type": "markdown",
   "metadata": {},
   "source": [
    "<h3>References:</h3>\n",
    "<ul>\n",
    "<li>\n",
    "<a href=\"https://www.w3schools.com/python/python_datetime.asp\"> Python Date time formatting</a>\n",
    "</li>\n",
    "<li>\n",
    "<a href=\"https://stackoverflow.com/questions/402504/how-to-determine-a-python-variables-type\"> Check Variable Type</a>\n",
    "</li>\n",
    "<li>\n",
    "<a href=\"https://pandas.pydata.org/docs/reference/api/pandas.DataFrame.isin.html\"> \"isin()\" Pandas Documentation</a>\n",
    "</li>\n",
    "<li>\n",
    "<a href=\"https://saturncloud.io/blog/how-to-select-data-from-a-pandas-dataframe-using-startswith/#:~:text=startswith()%20method%20provided%20by,the%20rows%20of%20the%20Dataframe.\"> Check if row value starts with a specified value.</a>\n",
    "</li>\n",
    "\n",
    "\n",
    "</ul>"
   ]
  }
 ],
 "metadata": {
  "kernelspec": {
   "display_name": ".venv",
   "language": "python",
   "name": "python3"
  },
  "language_info": {
   "codemirror_mode": {
    "name": "ipython",
    "version": 3
   },
   "file_extension": ".py",
   "mimetype": "text/x-python",
   "name": "python",
   "nbconvert_exporter": "python",
   "pygments_lexer": "ipython3",
   "version": "3.12.4"
  }
 },
 "nbformat": 4,
 "nbformat_minor": 2
}
