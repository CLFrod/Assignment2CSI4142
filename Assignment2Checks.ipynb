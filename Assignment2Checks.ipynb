{
 "cells": [
  {
   "cell_type": "markdown",
   "metadata": {},
   "source": [
    "# CSI 4142 - Introduction to Data Science\n",
    "# Assignment 2: Data cleaning\n",
    "\n",
    "Shacha Parker (300235525)\\\n",
    "Callum Frodsham and (300199446)\\\n",
    "Group 79\n",
    "\n",
    "### Setup Instructions To Reproduce this Data Cleaning Notebook:\n",
    "(Step 1 Optional)\n",
    "1. Create a virtual python environment in the project directory (if you want) for all of the packages required:  \n",
    "``` \n",
    "python -m venv .venv\n",
    "```\n",
    "To enter the virutal environment: \n",
    "```\n",
    ".venv/Scripts/activate.ps1 # on windows\n",
    "source .venv/bin/activate # on mac/linux\n",
    "```\n",
    "2. Download all of the required packages (run in cmd/shell of choice):\n",
    "```\n",
    "pip install jupyter\n",
    "pip install ipykernel\n",
    "pip install pandas\n",
    "pip install numpy\n",
    "```\n",
    "3. VSCode: Ensure you have the correct python kernel selected!\n",
    "<br> \n",
    "If you are using a virtual environment, make sure to select the python interpreter for that virtual environment otherwise this will not work! If you have everything done globally, then just make sure the correct python kernel you are using is selected."
   ]
  },
  {
   "cell_type": "code",
   "execution_count": null,
   "metadata": {},
   "outputs": [],
   "source": [
    "# Initial imports\n",
    "import numpy as np\n",
    "import pandas as pd\n",
    "import re"
   ]
  },
  {
   "cell_type": "markdown",
   "metadata": {},
   "source": [
    "<h1>Dataset 1: Netflix Movies and TV Shows</h1>\n",
    "<h3>Clean Data Checking</h3>\n",
    "\n",
    "Author: Shivam Bansal\n",
    "<br>\n",
    "Purpose: This dataset was made to provide insights on the shows and movies that Netflix is hosting on their platform. For example, these insights could be used to see what type of content the platform is missing, or what type of content they have too much of.\n",
    "<br>\n",
    "Shape: This dataset is composed of 12 columns, and 8810 rows.\n",
    "<br><br>\n",
    "Link: <a href=\"https://www.kaggle.com/datasets/shivamb/netflix-shows\"> Mobile Device Usage and User Behavior</a>\n",
    "<br>\n",
    "<h3>Dataset Feature List: </h3>\n",
    "<ol>\n",
    "    <li>Show Id:\n",
    "    <br>\n",
    "    Feature Type: Categorical - Nominal\n",
    "    <br>\n",
    "    Description: The show_id is a unique ID that is assigned to each show/movie. There are 8807 entries ranging from s1 to s8807.\n",
    "    </li>\n",
    "    <br>\n",
    "    <li>Type\n",
    "    <br>\n",
    "    Feature Type: Categorical - Nominal\n",
    "    <br>\n",
    "    Description Informs the viewer whether the content is a tv show or a movie.\n",
    "        </li>\n",
    "    <br>\n",
    "    <li>Title:\n",
    "    <br>\n",
    "    Feature Type: Categorical - Nominal\n",
    "    <br>\n",
    "    Description: The title name of the tv show or movie.\n",
    "        </li>\n",
    "    <br>\n",
    "    <li>Director:\n",
    "    <br>\n",
    "    Feature Type: Categorical - Nominal\n",
    "    <br>\n",
    "    Description: The name of the person(s) who directed the tv show or movie. \n",
    "        </li>\n",
    "    <br>\n",
    "    <li>Cast:\n",
    "    <br>\n",
    "    Feature Type: Categorical - Nominal\n",
    "    <br>\n",
    "    Description: The name(s) of the notable actor(s) who acted in the tv show or movie.\n",
    "        </li>\n",
    "    <br>\n",
    "    <li>Country:\n",
    "    <br>\n",
    "    Feature Type: Categorical - Nominal\n",
    "    <br>\n",
    "    Description: The countries/country where the tv show or movie was produced.\n",
    "        </li>\n",
    "    <br>\n",
    "    <li>Date Added:\n",
    "    <br>\n",
    "    Feature Type: Numerical - Continuous\n",
    "    <br>\n",
    "    Description: The date the show or movie was added to Netflix.\n",
    "        </li>\n",
    "    <br>\n",
    "    <li>Release Year:\n",
    "    <br>\n",
    "    Feature Type: Numerical - Continuous\n",
    "    <br>\n",
    "    Description: The year in which the tv show or movie was originally released.\n",
    "        </li>\n",
    "    <br>\n",
    "    <li>Rating:\n",
    "    <br>\n",
    "    Feature Type: Categorical - Ordinal\n",
    "    <br>\n",
    "    Description: This rating indicates the acceptable age of viewing for the tv show or movie.\n",
    "        </li>\n",
    "    <br>\n",
    "    <li>Duration:\n",
    "    <br>\n",
    "    Feature Type: Mixed Type - Numerical Continuous - Categorical Ordinal \n",
    "    <br>\n",
    "    Description: The duration of the movie in minutes, or if it is a tv show, in seasons.\n",
    "        </li>\n",
    "    <br>\n",
    "    <li>Genre/Listed In:\n",
    "    <br>\n",
    "    Feature Type: Categorical - Nominal\n",
    "    <br>\n",
    "    Description: The genres/subgenres the tv show or movie falls in.\n",
    "        </li>\n",
    "    <br>\n",
    "    <li>Description:\n",
    "    <br>\n",
    "    Feature Type: Categorical - Nominal\n",
    "    <br>\n",
    "    Description: The description of the tv show or movie.\n",
    "        </li>\n",
    "</ol>"
   ]
  },
  {
   "cell_type": "code",
   "execution_count": null,
   "metadata": {},
   "outputs": [],
   "source": [
    "# load the dataset: \n",
    "dataset = pd.read_csv(\"https://raw.githubusercontent.com/CLFrod/Assignment2CSI4142/refs/heads/master/netflix_titles.csv\")"
   ]
  },
  {
   "cell_type": "markdown",
   "metadata": {},
   "source": [
    "<h4>1. Range Check:</h4>\n",
    "<p>\n",
    "In this test, we will verify the range of a numerical value. The range is the minimum and maximum values that an attribute can have.\n",
    "</p>"
   ]
  },
  {
   "cell_type": "code",
   "execution_count": null,
   "metadata": {},
   "outputs": [],
   "source": [
    "# Please enter the various attributes below to perform the tests:\n",
    "range_attributes = ['release_year', 'date_added']\n",
    "# attribute selection:\n",
    "test_range_attribute = 'release_year'\n",
    "# Minimum:\n",
    "range_minimum = 1888\n",
    "# Maximum:\n",
    "range_maximum = 2025"
   ]
  },
  {
   "cell_type": "code",
   "execution_count": null,
   "metadata": {},
   "outputs": [],
   "source": [
    "# Checker Code\n",
    "range_series = dataset[test_range_attribute].between(range_minimum, range_maximum)\n",
    "\n",
    "# changing the booleans in range_series from True to False and vice versa\n",
    "# values that were previously not in range (False) are true!\n",
    "not_range_series = ~range_series\n",
    "\n",
    "# check if the range series is empty\n",
    "empty_range = dataset[not_range_series].empty\n",
    "# if the series is not empty, \n",
    "if not empty_range:\n",
    "    out_of_range_count = 0\n",
    "    for val in not_range_series:\n",
    "        out_of_range_count += 1\n",
    "    print(out_of_range_count)\n",
    "# if the series is empty\n",
    "else:\n",
    "    print(\"All values fall within specified paramters!\")"
   ]
  },
  {
   "cell_type": "markdown",
   "metadata": {},
   "source": [
    "<p style =\"font-size:20px\">Range check Findings: </p>\n",
    "No range errors were detected based on the provided parameters.\n",
    "The dataset's 'release_year' feature only has years that fit within logical parameters."
   ]
  },
  {
   "cell_type": "markdown",
   "metadata": {},
   "source": [
    "<h4>2. Format Check:</h4>\n",
    "<p>\n",
    "\n",
    "</p>"
   ]
  },
  {
   "cell_type": "code",
   "execution_count": null,
   "metadata": {},
   "outputs": [],
   "source": [
    "# Please enter the various attributes below to perform the tests:\n",
    "format_attributes = ['date_added', 'release_year']\n",
    "\n",
    "test_format_attribute = format_attributes[0]\n"
   ]
  },
  {
   "cell_type": "code",
   "execution_count": null,
   "metadata": {},
   "outputs": [],
   "source": [
    "# Checker Code\n",
    "# get the df of dates added\n",
    "date_added_df = dataset['date_added']\n",
    "\n",
    "#convert to datetime\n",
    "converted_dates = pd.to_datetime(date_added_df, format=\"%B %d, %Y\", errors=\"coerce\")\n",
    "\n",
    "# get the incorrectly formatted dates\n",
    "incorrectly_formatted_dates = converted_dates.isna()\n",
    "print(dataset[incorrectly_formatted_dates][test_format_attribute])\n"
   ]
  },
  {
   "cell_type": "markdown",
   "metadata": {},
   "source": [
    "<p style =\"font-size:20px\">Format check Findings: </p>\n",
    "There are 98 data points that don't follow the correct format of the dates,\n",
    "For example,\n",
    "Row 6068 is missing a date, and thus is technically not following the correct format.<br>\n",
    "<br>\n",
    "Row 8759 has \" November 1, 2016\". Although technically following correct formatting, it has a leading whitespace which should not be there."
   ]
  },
  {
   "cell_type": "markdown",
   "metadata": {},
   "source": [
    "<h4>3. Data Type Check:</h4>\n",
    "<p>\n",
    "\n",
    "</p>"
   ]
  },
  {
   "cell_type": "code",
   "execution_count": null,
   "metadata": {},
   "outputs": [],
   "source": [
    "# Please enter the various attributes below to perform the tests:\n",
    "attributes = ['release_year']\n",
    "data_type_test_attribute = attributes[0]"
   ]
  },
  {
   "cell_type": "code",
   "execution_count": null,
   "metadata": {},
   "outputs": [],
   "source": [
    "# Checker Code\n",
    "# small function to check if val is int\n",
    "def is_integer(val):\n",
    "    return isinstance(val, int)\n",
    "\n",
    "data_type_check = dataset[data_type_test_attribute].apply(is_integer).all()\n",
    "\n",
    "if data_type_check:\n",
    "    print(\"All values are integers.\")\n",
    "else:\n",
    "    print(\"Not all values are integers.\")\n"
   ]
  },
  {
   "cell_type": "markdown",
   "metadata": {},
   "source": [
    "<p style =\"font-size:20px\">Data Type check Findings: </p>\n",
    "No data type errors were detected based on the provided parameters.\n",
    "The dataset's 'release_year' feature only contains integer values."
   ]
  },
  {
   "cell_type": "markdown",
   "metadata": {},
   "source": [
    "<h4>4. Consistency Check</h4>\n",
    "<p>\n",
    "\n",
    "</p>"
   ]
  },
  {
   "cell_type": "code",
   "execution_count": null,
   "metadata": {},
   "outputs": [],
   "source": [
    "# Please enter the various attributes below to perform the tests:\n",
    "consistency_attributes = ['release_year']\n"
   ]
  },
  {
   "cell_type": "code",
   "execution_count": null,
   "metadata": {},
   "outputs": [],
   "source": [
    "# Checker Code"
   ]
  },
  {
   "cell_type": "markdown",
   "metadata": {},
   "source": [
    "findings report"
   ]
  },
  {
   "cell_type": "markdown",
   "metadata": {},
   "source": [
    "<h4>5. Uniqueness Check:</h4>\n",
    "<p>\n",
    "\n",
    "</p>"
   ]
  },
  {
   "cell_type": "code",
   "execution_count": null,
   "metadata": {},
   "outputs": [],
   "source": [
    "# Please enter the various attributes below to perform the tests:\n",
    "attributes = []"
   ]
  },
  {
   "cell_type": "code",
   "execution_count": null,
   "metadata": {},
   "outputs": [],
   "source": [
    "# Checker Code"
   ]
  },
  {
   "cell_type": "markdown",
   "metadata": {},
   "source": [
    "findings report"
   ]
  },
  {
   "cell_type": "markdown",
   "metadata": {},
   "source": [
    "<h4>6. Presence Check:</h4>\n",
    "<p>\n",
    "\n",
    "</p>"
   ]
  },
  {
   "cell_type": "code",
   "execution_count": null,
   "metadata": {},
   "outputs": [],
   "source": [
    "# Please enter the various attributes below to perform the tests:\n",
    "attributes = []"
   ]
  },
  {
   "cell_type": "code",
   "execution_count": null,
   "metadata": {},
   "outputs": [],
   "source": [
    "# Checker Code"
   ]
  },
  {
   "cell_type": "markdown",
   "metadata": {},
   "source": [
    "findings report"
   ]
  },
  {
   "cell_type": "markdown",
   "metadata": {},
   "source": [
    "<h4>7. Length Check:</h4>\n",
    "<p>\n",
    "\n",
    "</p>"
   ]
  },
  {
   "cell_type": "code",
   "execution_count": null,
   "metadata": {},
   "outputs": [],
   "source": [
    "# Please enter the various attributes below to perform the tests:\n",
    "attributes = []"
   ]
  },
  {
   "cell_type": "code",
   "execution_count": null,
   "metadata": {},
   "outputs": [],
   "source": [
    "# Checker Code"
   ]
  },
  {
   "cell_type": "markdown",
   "metadata": {},
   "source": [
    "findings report"
   ]
  },
  {
   "cell_type": "markdown",
   "metadata": {},
   "source": [
    "<h4>8. Look-up Check:</h4>\n",
    "<p>\n",
    "\n",
    "</p>"
   ]
  },
  {
   "cell_type": "code",
   "execution_count": null,
   "metadata": {},
   "outputs": [],
   "source": [
    "# Please enter the various attributes below to perform the tests:\n",
    "attributes = []"
   ]
  },
  {
   "cell_type": "code",
   "execution_count": null,
   "metadata": {},
   "outputs": [],
   "source": [
    "# Checker Code"
   ]
  },
  {
   "cell_type": "markdown",
   "metadata": {},
   "source": [
    "findings report"
   ]
  },
  {
   "cell_type": "markdown",
   "metadata": {},
   "source": [
    "<h4>9. Exact Duplicate Check</h4>\n",
    "<p>\n",
    "\n",
    "</p>"
   ]
  },
  {
   "cell_type": "code",
   "execution_count": null,
   "metadata": {},
   "outputs": [],
   "source": [
    "# Please enter the various attributes below to perform the tests:\n",
    "attributes = []"
   ]
  },
  {
   "cell_type": "code",
   "execution_count": null,
   "metadata": {},
   "outputs": [],
   "source": [
    "# Checker Code"
   ]
  },
  {
   "cell_type": "markdown",
   "metadata": {},
   "source": [
    "findings report"
   ]
  },
  {
   "cell_type": "markdown",
   "metadata": {},
   "source": [
    "<h4>10. Near Duplicate Check:</h4>\n",
    "<p>\n",
    "\n",
    "</p>"
   ]
  },
  {
   "cell_type": "code",
   "execution_count": null,
   "metadata": {},
   "outputs": [],
   "source": [
    "# Please enter the various attributes below to perform the tests:\n",
    "attributes = []\n"
   ]
  },
  {
   "cell_type": "code",
   "execution_count": null,
   "metadata": {},
   "outputs": [],
   "source": [
    "# Checker Code"
   ]
  },
  {
   "cell_type": "markdown",
   "metadata": {},
   "source": [
    "findings report"
   ]
  },
  {
   "cell_type": "markdown",
   "metadata": {},
   "source": [
    "<h3>References:</h3>\n",
    "<ul>\n",
    "<li>\n",
    "<a href=\"https://www.w3schools.com/python/python_datetime.asp\"> Python Date time formatting</a>\n",
    "</li>\n",
    "<li>\n",
    "<a href=\"https://stackoverflow.com/questions/402504/how-to-determine-a-python-variables-type\"> Check Variable Type</a>\n",
    "</li>\n",
    "</ul>"
   ]
  }
 ],
 "metadata": {
  "kernelspec": {
   "display_name": ".venv",
   "language": "python",
   "name": "python3"
  },
  "language_info": {
   "codemirror_mode": {
    "name": "ipython",
    "version": 3
   },
   "file_extension": ".py",
   "mimetype": "text/x-python",
   "name": "python",
   "nbconvert_exporter": "python",
   "pygments_lexer": "ipython3",
   "version": "3.12.4"
  }
 },
 "nbformat": 4,
 "nbformat_minor": 2
}
