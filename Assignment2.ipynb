{
 "cells": [
  {
   "cell_type": "markdown",
   "metadata": {},
   "source": [
    "# CSI 4142 - Introduction to Data Science\n",
    "# Assignment 2: Data cleaning\n",
    "\n",
    "Shacha Parker (300235525)\\\n",
    "Callum Frodsham and (300199446)\\\n",
    "Group 79\n",
    "\n",
    "### Setup Instructions To Reproduce this Data Cleaning Notebook:\n",
    "(Step 1 Optional)\n",
    "1. Create a virtual python environment in the project directory (if you want) for all of the packages required:  \n",
    "``` \n",
    "python -m venv .venv\n",
    "```\n",
    "To enter the virutal environment: \n",
    "```\n",
    ".venv/Scripts/activate.ps1 # on windows\n",
    "source .venv/bin/activate # on mac/linux\n",
    "```\n",
    "2. Download all of the required packages (run in cmd/shell of choice):\n",
    "```\n",
    "pip install jupyter\n",
    "pip install ipykernel\n",
    "pip install pandas\n",
    "pip install numpy\n",
    "```\n",
    "3. VSCode: Ensure you have the correct python kernel selected!\n",
    "<br> \n",
    "If you are using a virtual environment, make sure to select the python interpreter for that virtual environment otherwise this will not work! If you have everything done globally, then just make sure the correct python kernel you are using is selected."
   ]
  },
  {
   "cell_type": "code",
   "execution_count": null,
   "metadata": {},
   "outputs": [],
   "source": [
    "# Initial imports\n",
    "import numpy as np\n",
    "import pandas as pd"
   ]
  },
  {
   "cell_type": "markdown",
   "metadata": {},
   "source": [
    "<h1>Dataset 1: Netflix Movies and TV Shows</h1>\n",
    "<h3>Clean Data Checking</h3>\n",
    "\n",
    "Author: Shivam Bansal\n",
    "<br>\n",
    "Purpose: This dataset was made to provide insights on the shows and movies that Netflix is hosting on their platform. For example, these insights could be used to see what type of content the platform is missing, or what type of content they have too much of.\n",
    "<br>\n",
    "Shape: This dataset is composed of 12 columns, and 8810 rows.\n",
    "<br><br>\n",
    "Link: <a href=\"https://www.kaggle.com/datasets/shivamb/netflix-shows\"> Mobile Device Usage and User Behavior</a>\n",
    "<br>\n",
    "<h3>Dataset Feature List: </h3>\n",
    "<ol>\n",
    "    <li>Show Id:\n",
    "    <br>\n",
    "    Feature Type: Categorical - Nominal\n",
    "    <br>\n",
    "    Description: The show_id is a unique ID that is assigned to each show/movie. There are 8807 entries ranging from s1 to s8807.\n",
    "    </li>\n",
    "    <br>\n",
    "    <li>Type\n",
    "    <br>\n",
    "    Feature Type: Categorical - Nominal\n",
    "    <br>\n",
    "    Description Informs the viewer whether the content is a tv show or a movie.\n",
    "        </li>\n",
    "    <br>\n",
    "    <li>Title:\n",
    "    <br>\n",
    "    Feature Type: Categorical - Nominal\n",
    "    <br>\n",
    "    Description: The title name of the tv show or movie.\n",
    "        </li>\n",
    "    <br>\n",
    "    <li>Director:\n",
    "    <br>\n",
    "    Feature Type: Categorical - Nominal\n",
    "    <br>\n",
    "    Description: The name of the person(s) who directed the tv show or movie. \n",
    "        </li>\n",
    "    <br>\n",
    "    <li>Cast:\n",
    "    <br>\n",
    "    Feature Type: Categorical - Nominal\n",
    "    <br>\n",
    "    Description: The name(s) of the notable actor(s) who acted in the tv show or movie.\n",
    "        </li>\n",
    "    <br>\n",
    "    <li>Country:\n",
    "    <br>\n",
    "    Feature Type: Categorical - Nominal\n",
    "    <br>\n",
    "    Description: The countries/country where the tv show or movie was produced.\n",
    "        </li>\n",
    "    <br>\n",
    "    <li>Date Added:\n",
    "    <br>\n",
    "    Feature Type: Numerical - Continuous\n",
    "    <br>\n",
    "    Description: The date the show or movie was added to Netflix.\n",
    "        </li>\n",
    "    <br>\n",
    "    <li>Release Year:\n",
    "    <br>\n",
    "    Feature Type: Numerical - Continuous\n",
    "    <br>\n",
    "    Description: The year in which the tv show or movie was originally released.\n",
    "        </li>\n",
    "    <br>\n",
    "    <li>Rating:\n",
    "    <br>\n",
    "    Feature Type: Categorical - Ordinal\n",
    "    <br>\n",
    "    Description: This rating indicates the acceptable age of viewing for the tv show or movie.\n",
    "        </li>\n",
    "    <br>\n",
    "    <li>Duration:\n",
    "    <br>\n",
    "    Feature Type: Mixed Type - Numerical Continuous - Categorical Ordinal \n",
    "    <br>\n",
    "    Description: The duration of the movie in minutes, or if it is a tv show, in seasons.\n",
    "        </li>\n",
    "    <br>\n",
    "    <li>Genre/Listed In:\n",
    "    <br>\n",
    "    Feature Type: Categorical - Nominal\n",
    "    <br>\n",
    "    Description: The genres/subgenres the tv show or movie falls in.\n",
    "        </li>\n",
    "    <br>\n",
    "    <li>Description:\n",
    "    <br>\n",
    "    Feature Type: Categorical - Nominal\n",
    "    <br>\n",
    "    Description: The description of the tv show or movie.\n",
    "        </li>\n",
    "</ol>"
   ]
  },
  {
   "cell_type": "markdown",
   "metadata": {},
   "source": [
    "<h4>1. Range Check:</h4>\n",
    "<p>\n",
    "\n",
    "</p>"
   ]
  },
  {
   "cell_type": "code",
   "execution_count": null,
   "metadata": {},
   "outputs": [],
   "source": [
    "# Please enter the various attributes below to perform the tests:\n",
    "attributes = []\n"
   ]
  },
  {
   "cell_type": "code",
   "execution_count": null,
   "metadata": {},
   "outputs": [],
   "source": [
    "# Checker Code"
   ]
  },
  {
   "cell_type": "markdown",
   "metadata": {},
   "source": [
    "findings report\n"
   ]
  },
  {
   "cell_type": "markdown",
   "metadata": {},
   "source": [
    "<h4>2. Format Check:</h4>\n",
    "<p>\n",
    "\n",
    "</p>"
   ]
  },
  {
   "cell_type": "code",
   "execution_count": null,
   "metadata": {},
   "outputs": [],
   "source": [
    "# Please enter the various attributes below to perform the tests:\n",
    "attributes = []"
   ]
  },
  {
   "cell_type": "code",
   "execution_count": null,
   "metadata": {},
   "outputs": [],
   "source": [
    "# Checker Code"
   ]
  },
  {
   "cell_type": "markdown",
   "metadata": {},
   "source": [
    "findings report"
   ]
  },
  {
   "cell_type": "markdown",
   "metadata": {},
   "source": [
    "<h4>3. Data Type Check:</h4>\n",
    "<p>\n",
    "\n",
    "</p>"
   ]
  },
  {
   "cell_type": "code",
   "execution_count": null,
   "metadata": {},
   "outputs": [],
   "source": [
    "# Please enter the various attributes below to perform the tests:\n",
    "attributes = []"
   ]
  },
  {
   "cell_type": "code",
   "execution_count": null,
   "metadata": {},
   "outputs": [],
   "source": [
    "# Checker Code"
   ]
  },
  {
   "cell_type": "markdown",
   "metadata": {},
   "source": [
    "findings report"
   ]
  },
  {
   "cell_type": "markdown",
   "metadata": {},
   "source": [
    "<h4>4. Consistency Check</h4>\n",
    "<p>\n",
    "\n",
    "</p>"
   ]
  },
  {
   "cell_type": "code",
   "execution_count": null,
   "metadata": {},
   "outputs": [],
   "source": [
    "# Please enter the various attributes below to perform the tests:\n",
    "attributes = []"
   ]
  },
  {
   "cell_type": "code",
   "execution_count": null,
   "metadata": {},
   "outputs": [],
   "source": [
    "# Checker Code"
   ]
  },
  {
   "cell_type": "markdown",
   "metadata": {},
   "source": [
    "findings report"
   ]
  },
  {
   "cell_type": "markdown",
   "metadata": {},
   "source": [
    "<h4>5. Uniqueness Check:</h4>\n",
    "<p>\n",
    "\n",
    "</p>"
   ]
  },
  {
   "cell_type": "code",
   "execution_count": null,
   "metadata": {},
   "outputs": [],
   "source": [
    "# Please enter the various attributes below to perform the tests:\n",
    "attributes = []"
   ]
  },
  {
   "cell_type": "code",
   "execution_count": null,
   "metadata": {},
   "outputs": [],
   "source": [
    "# Checker Code"
   ]
  },
  {
   "cell_type": "markdown",
   "metadata": {},
   "source": [
    "findings report"
   ]
  },
  {
   "cell_type": "markdown",
   "metadata": {},
   "source": [
    "<h4>6. Presence Check:</h4>\n",
    "<p>\n",
    "\n",
    "</p>"
   ]
  },
  {
   "cell_type": "code",
   "execution_count": null,
   "metadata": {},
   "outputs": [],
   "source": [
    "# Please enter the various attributes below to perform the tests:\n",
    "attributes = []"
   ]
  },
  {
   "cell_type": "code",
   "execution_count": null,
   "metadata": {},
   "outputs": [],
   "source": [
    "# Checker Code"
   ]
  },
  {
   "cell_type": "markdown",
   "metadata": {},
   "source": [
    "findings report"
   ]
  },
  {
   "cell_type": "markdown",
   "metadata": {},
   "source": [
    "<h4>7. Length Check:</h4>\n",
    "<p>\n",
    "\n",
    "</p>"
   ]
  },
  {
   "cell_type": "code",
   "execution_count": null,
   "metadata": {},
   "outputs": [],
   "source": [
    "# Please enter the various attributes below to perform the tests:\n",
    "attributes = []"
   ]
  },
  {
   "cell_type": "code",
   "execution_count": null,
   "metadata": {},
   "outputs": [],
   "source": [
    "# Checker Code"
   ]
  },
  {
   "cell_type": "markdown",
   "metadata": {},
   "source": [
    "findings report"
   ]
  },
  {
   "cell_type": "markdown",
   "metadata": {},
   "source": [
    "<h4>8. Look-up Check:</h4>\n",
    "<p>\n",
    "\n",
    "</p>"
   ]
  },
  {
   "cell_type": "code",
   "execution_count": null,
   "metadata": {},
   "outputs": [],
   "source": [
    "# Please enter the various attributes below to perform the tests:\n",
    "attributes = []"
   ]
  },
  {
   "cell_type": "code",
   "execution_count": null,
   "metadata": {},
   "outputs": [],
   "source": [
    "# Checker Code"
   ]
  },
  {
   "cell_type": "markdown",
   "metadata": {},
   "source": [
    "findings report"
   ]
  },
  {
   "cell_type": "markdown",
   "metadata": {},
   "source": [
    "<h4>9. Exact Duplicate Check</h4>\n",
    "<p>\n",
    "\n",
    "</p>"
   ]
  },
  {
   "cell_type": "code",
   "execution_count": null,
   "metadata": {},
   "outputs": [],
   "source": [
    "# Please enter the various attributes below to perform the tests:\n",
    "attributes = []"
   ]
  },
  {
   "cell_type": "code",
   "execution_count": null,
   "metadata": {},
   "outputs": [],
   "source": [
    "# Checker Code"
   ]
  },
  {
   "cell_type": "markdown",
   "metadata": {},
   "source": [
    "findings report"
   ]
  },
  {
   "cell_type": "markdown",
   "metadata": {},
   "source": [
    "<h4>10. Near Duplicate Check:</h4>\n",
    "<p>\n",
    "\n",
    "</p>"
   ]
  },
  {
   "cell_type": "code",
   "execution_count": null,
   "metadata": {},
   "outputs": [],
   "source": [
    "# Please enter the various attributes below to perform the tests:\n",
    "attributes = []\n"
   ]
  },
  {
   "cell_type": "code",
   "execution_count": null,
   "metadata": {},
   "outputs": [],
   "source": [
    "# Checker Code"
   ]
  },
  {
   "cell_type": "markdown",
   "metadata": {},
   "source": [
    "findings report"
   ]
  }
 ],
 "metadata": {
  "kernelspec": {
   "display_name": ".venv",
   "language": "python",
   "name": "python3"
  },
  "language_info": {
   "codemirror_mode": {
    "name": "ipython",
    "version": 3
   },
   "file_extension": ".py",
   "mimetype": "text/x-python",
   "name": "python",
   "nbconvert_exporter": "python",
   "pygments_lexer": "ipython3",
   "version": "3.12.4"
  }
 },
 "nbformat": 4,
 "nbformat_minor": 2
}
